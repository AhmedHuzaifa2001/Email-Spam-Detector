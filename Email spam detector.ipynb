{
 "cells": [
  {
   "cell_type": "markdown",
   "id": "7708f47a",
   "metadata": {},
   "source": [
    "In here, I have included a Email spam containing dataset. Using Machine Learning techiniques I have trained the model to predict whether it is spam or not for random emails. If it is spam it will output as spam. I have created a simple GUI for this model. "
   ]
  },
  {
   "cell_type": "code",
   "execution_count": 3,
   "id": "58b036e0",
   "metadata": {},
   "outputs": [],
   "source": [
    "import pandas as pd\n",
    "from sklearn.feature_extraction.text import CountVectorizer\n",
    "from sklearn.naive_bayes import MultinomialNB\n",
    "import tkinter as tk\n",
    "from tkinter import messagebox\n",
    "\n",
    "# Load the dataset\n",
    "data = pd.read_csv('spam.csv', encoding='latin-1')\n",
    "\n",
    "# Select relevant columns\n",
    "data = data[['v1', 'v2']]\n",
    "data.columns = ['label', 'text']\n",
    "\n",
    "# Convert labels to binary (spam: 1, ham: 0)\n",
    "data['label'] = data['label'].map({'spam': 1, 'ham': 0})\n",
    "\n",
    "# Train a Naive Bayes classifier\n",
    "vectorizer = CountVectorizer()\n",
    "X_train_vectorized = vectorizer.fit_transform(data['text'])\n",
    "y_train = data['label']\n",
    "clf = MultinomialNB()\n",
    "clf.fit(X_train_vectorized, y_train)\n",
    "\n",
    "# Create a simple tkinter GUI\n",
    "def classify_text():\n",
    "    input_text = entry.get()\n",
    "    input_vectorized = vectorizer.transform([input_text])\n",
    "    prediction = clf.predict(input_vectorized)[0]\n",
    "    result = \"Spam\" if prediction == 1 else \"Not Spam\"\n",
    "    messagebox.showinfo(\"Prediction Result\", f\"The input email is classified as {result}.\")\n",
    "\n",
    "# GUI setup\n",
    "root = tk.Tk()\n",
    "root.title(\"Spam Classifier\")\n",
    "\n",
    "# Entry field for input text\n",
    "entry_label = tk.Label(root, text=\"Enter Email Text:\")\n",
    "entry_label.pack()\n",
    "entry = tk.Entry(root, width=40)\n",
    "entry.pack()\n",
    "\n",
    "# Button to trigger classification\n",
    "classify_button = tk.Button(root, text=\"Classify\", command=classify_text)\n",
    "classify_button.pack()\n",
    "\n",
    "# Run the GUI\n",
    "root.mainloop()\n"
   ]
  },
  {
   "cell_type": "code",
   "execution_count": null,
   "id": "a0fae1d3",
   "metadata": {},
   "outputs": [],
   "source": []
  }
 ],
 "metadata": {
  "kernelspec": {
   "display_name": "Python 3 (ipykernel)",
   "language": "python",
   "name": "python3"
  },
  "language_info": {
   "codemirror_mode": {
    "name": "ipython",
    "version": 3
   },
   "file_extension": ".py",
   "mimetype": "text/x-python",
   "name": "python",
   "nbconvert_exporter": "python",
   "pygments_lexer": "ipython3",
   "version": "3.11.4"
  }
 },
 "nbformat": 4,
 "nbformat_minor": 5
}
